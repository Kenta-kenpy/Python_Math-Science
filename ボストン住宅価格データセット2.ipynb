{
 "cells": [
  {
   "cell_type": "code",
   "execution_count": 2,
   "id": "75f983f4",
   "metadata": {},
   "outputs": [
    {
     "data": {
      "text/html": [
       "<div>\n",
       "<style scoped>\n",
       "    .dataframe tbody tr th:only-of-type {\n",
       "        vertical-align: middle;\n",
       "    }\n",
       "\n",
       "    .dataframe tbody tr th {\n",
       "        vertical-align: top;\n",
       "    }\n",
       "\n",
       "    .dataframe thead th {\n",
       "        text-align: right;\n",
       "    }\n",
       "</style>\n",
       "<table border=\"1\" class=\"dataframe\">\n",
       "  <thead>\n",
       "    <tr style=\"text-align: right;\">\n",
       "      <th></th>\n",
       "      <th>CRIM</th>\n",
       "      <th>ZN</th>\n",
       "      <th>INDUS</th>\n",
       "      <th>CHAS</th>\n",
       "      <th>NOX</th>\n",
       "      <th>RM</th>\n",
       "      <th>AGE</th>\n",
       "      <th>DIS</th>\n",
       "      <th>RAD</th>\n",
       "      <th>TAX</th>\n",
       "      <th>PTRATIO</th>\n",
       "      <th>B</th>\n",
       "      <th>LSTAT</th>\n",
       "      <th>MEDV</th>\n",
       "    </tr>\n",
       "  </thead>\n",
       "  <tbody>\n",
       "    <tr>\n",
       "      <th>0</th>\n",
       "      <td>0.00632</td>\n",
       "      <td>18.0</td>\n",
       "      <td>2.31</td>\n",
       "      <td>0.0</td>\n",
       "      <td>0.538</td>\n",
       "      <td>6.575</td>\n",
       "      <td>65.2</td>\n",
       "      <td>4.0900</td>\n",
       "      <td>1.0</td>\n",
       "      <td>296.0</td>\n",
       "      <td>15.3</td>\n",
       "      <td>396.90</td>\n",
       "      <td>4.98</td>\n",
       "      <td>24.0</td>\n",
       "    </tr>\n",
       "    <tr>\n",
       "      <th>1</th>\n",
       "      <td>0.02731</td>\n",
       "      <td>0.0</td>\n",
       "      <td>7.07</td>\n",
       "      <td>0.0</td>\n",
       "      <td>0.469</td>\n",
       "      <td>6.421</td>\n",
       "      <td>78.9</td>\n",
       "      <td>4.9671</td>\n",
       "      <td>2.0</td>\n",
       "      <td>242.0</td>\n",
       "      <td>17.8</td>\n",
       "      <td>396.90</td>\n",
       "      <td>9.14</td>\n",
       "      <td>21.6</td>\n",
       "    </tr>\n",
       "    <tr>\n",
       "      <th>2</th>\n",
       "      <td>0.02729</td>\n",
       "      <td>0.0</td>\n",
       "      <td>7.07</td>\n",
       "      <td>0.0</td>\n",
       "      <td>0.469</td>\n",
       "      <td>7.185</td>\n",
       "      <td>61.1</td>\n",
       "      <td>4.9671</td>\n",
       "      <td>2.0</td>\n",
       "      <td>242.0</td>\n",
       "      <td>17.8</td>\n",
       "      <td>392.83</td>\n",
       "      <td>4.03</td>\n",
       "      <td>34.7</td>\n",
       "    </tr>\n",
       "    <tr>\n",
       "      <th>3</th>\n",
       "      <td>0.03237</td>\n",
       "      <td>0.0</td>\n",
       "      <td>2.18</td>\n",
       "      <td>0.0</td>\n",
       "      <td>0.458</td>\n",
       "      <td>6.998</td>\n",
       "      <td>45.8</td>\n",
       "      <td>6.0622</td>\n",
       "      <td>3.0</td>\n",
       "      <td>222.0</td>\n",
       "      <td>18.7</td>\n",
       "      <td>394.63</td>\n",
       "      <td>2.94</td>\n",
       "      <td>33.4</td>\n",
       "    </tr>\n",
       "    <tr>\n",
       "      <th>4</th>\n",
       "      <td>0.06905</td>\n",
       "      <td>0.0</td>\n",
       "      <td>2.18</td>\n",
       "      <td>0.0</td>\n",
       "      <td>0.458</td>\n",
       "      <td>7.147</td>\n",
       "      <td>54.2</td>\n",
       "      <td>6.0622</td>\n",
       "      <td>3.0</td>\n",
       "      <td>222.0</td>\n",
       "      <td>18.7</td>\n",
       "      <td>396.90</td>\n",
       "      <td>5.33</td>\n",
       "      <td>36.2</td>\n",
       "    </tr>\n",
       "    <tr>\n",
       "      <th>...</th>\n",
       "      <td>...</td>\n",
       "      <td>...</td>\n",
       "      <td>...</td>\n",
       "      <td>...</td>\n",
       "      <td>...</td>\n",
       "      <td>...</td>\n",
       "      <td>...</td>\n",
       "      <td>...</td>\n",
       "      <td>...</td>\n",
       "      <td>...</td>\n",
       "      <td>...</td>\n",
       "      <td>...</td>\n",
       "      <td>...</td>\n",
       "      <td>...</td>\n",
       "    </tr>\n",
       "    <tr>\n",
       "      <th>501</th>\n",
       "      <td>0.06263</td>\n",
       "      <td>0.0</td>\n",
       "      <td>11.93</td>\n",
       "      <td>0.0</td>\n",
       "      <td>0.573</td>\n",
       "      <td>6.593</td>\n",
       "      <td>69.1</td>\n",
       "      <td>2.4786</td>\n",
       "      <td>1.0</td>\n",
       "      <td>273.0</td>\n",
       "      <td>21.0</td>\n",
       "      <td>391.99</td>\n",
       "      <td>9.67</td>\n",
       "      <td>22.4</td>\n",
       "    </tr>\n",
       "    <tr>\n",
       "      <th>502</th>\n",
       "      <td>0.04527</td>\n",
       "      <td>0.0</td>\n",
       "      <td>11.93</td>\n",
       "      <td>0.0</td>\n",
       "      <td>0.573</td>\n",
       "      <td>6.120</td>\n",
       "      <td>76.7</td>\n",
       "      <td>2.2875</td>\n",
       "      <td>1.0</td>\n",
       "      <td>273.0</td>\n",
       "      <td>21.0</td>\n",
       "      <td>396.90</td>\n",
       "      <td>9.08</td>\n",
       "      <td>20.6</td>\n",
       "    </tr>\n",
       "    <tr>\n",
       "      <th>503</th>\n",
       "      <td>0.06076</td>\n",
       "      <td>0.0</td>\n",
       "      <td>11.93</td>\n",
       "      <td>0.0</td>\n",
       "      <td>0.573</td>\n",
       "      <td>6.976</td>\n",
       "      <td>91.0</td>\n",
       "      <td>2.1675</td>\n",
       "      <td>1.0</td>\n",
       "      <td>273.0</td>\n",
       "      <td>21.0</td>\n",
       "      <td>396.90</td>\n",
       "      <td>5.64</td>\n",
       "      <td>23.9</td>\n",
       "    </tr>\n",
       "    <tr>\n",
       "      <th>504</th>\n",
       "      <td>0.10959</td>\n",
       "      <td>0.0</td>\n",
       "      <td>11.93</td>\n",
       "      <td>0.0</td>\n",
       "      <td>0.573</td>\n",
       "      <td>6.794</td>\n",
       "      <td>89.3</td>\n",
       "      <td>2.3889</td>\n",
       "      <td>1.0</td>\n",
       "      <td>273.0</td>\n",
       "      <td>21.0</td>\n",
       "      <td>393.45</td>\n",
       "      <td>6.48</td>\n",
       "      <td>22.0</td>\n",
       "    </tr>\n",
       "    <tr>\n",
       "      <th>505</th>\n",
       "      <td>0.04741</td>\n",
       "      <td>0.0</td>\n",
       "      <td>11.93</td>\n",
       "      <td>0.0</td>\n",
       "      <td>0.573</td>\n",
       "      <td>6.030</td>\n",
       "      <td>80.8</td>\n",
       "      <td>2.5050</td>\n",
       "      <td>1.0</td>\n",
       "      <td>273.0</td>\n",
       "      <td>21.0</td>\n",
       "      <td>396.90</td>\n",
       "      <td>7.88</td>\n",
       "      <td>11.9</td>\n",
       "    </tr>\n",
       "  </tbody>\n",
       "</table>\n",
       "<p>506 rows × 14 columns</p>\n",
       "</div>"
      ],
      "text/plain": [
       "        CRIM    ZN  INDUS  CHAS    NOX     RM   AGE     DIS  RAD    TAX  \\\n",
       "0    0.00632  18.0   2.31   0.0  0.538  6.575  65.2  4.0900  1.0  296.0   \n",
       "1    0.02731   0.0   7.07   0.0  0.469  6.421  78.9  4.9671  2.0  242.0   \n",
       "2    0.02729   0.0   7.07   0.0  0.469  7.185  61.1  4.9671  2.0  242.0   \n",
       "3    0.03237   0.0   2.18   0.0  0.458  6.998  45.8  6.0622  3.0  222.0   \n",
       "4    0.06905   0.0   2.18   0.0  0.458  7.147  54.2  6.0622  3.0  222.0   \n",
       "..       ...   ...    ...   ...    ...    ...   ...     ...  ...    ...   \n",
       "501  0.06263   0.0  11.93   0.0  0.573  6.593  69.1  2.4786  1.0  273.0   \n",
       "502  0.04527   0.0  11.93   0.0  0.573  6.120  76.7  2.2875  1.0  273.0   \n",
       "503  0.06076   0.0  11.93   0.0  0.573  6.976  91.0  2.1675  1.0  273.0   \n",
       "504  0.10959   0.0  11.93   0.0  0.573  6.794  89.3  2.3889  1.0  273.0   \n",
       "505  0.04741   0.0  11.93   0.0  0.573  6.030  80.8  2.5050  1.0  273.0   \n",
       "\n",
       "     PTRATIO       B  LSTAT  MEDV  \n",
       "0       15.3  396.90   4.98  24.0  \n",
       "1       17.8  396.90   9.14  21.6  \n",
       "2       17.8  392.83   4.03  34.7  \n",
       "3       18.7  394.63   2.94  33.4  \n",
       "4       18.7  396.90   5.33  36.2  \n",
       "..       ...     ...    ...   ...  \n",
       "501     21.0  391.99   9.67  22.4  \n",
       "502     21.0  396.90   9.08  20.6  \n",
       "503     21.0  396.90   5.64  23.9  \n",
       "504     21.0  393.45   6.48  22.0  \n",
       "505     21.0  396.90   7.88  11.9  \n",
       "\n",
       "[506 rows x 14 columns]"
      ]
     },
     "execution_count": 2,
     "metadata": {},
     "output_type": "execute_result"
    }
   ],
   "source": [
    "from sklearn import datasets\n",
    "import pandas as pd\n",
    "\n",
    "boston = datasets.load_boston()\n",
    "\n",
    "df = pd.DataFrame(boston.data, columns = boston.feature_names)\n",
    "df[\"MEDV\"] = boston.target\n",
    "df"
   ]
  },
  {
   "cell_type": "markdown",
   "id": "b1efb005",
   "metadata": {},
   "source": [
    "### 訓練用データ・テスト用データに分割する"
   ]
  },
  {
   "cell_type": "code",
   "execution_count": 3,
   "id": "62460eec",
   "metadata": {},
   "outputs": [],
   "source": [
    "# 変数xに犯罪率CRIM,平均部屋数RM,低所得者割合LSTAT\n",
    "# 変数yに予想する住宅価格MEDV\n",
    "\n",
    "x = df.loc[:, [\"CRIM\", \"RM\", \"LSTAT\"]]\n",
    "y = df.loc[:, \"MEDV\"]"
   ]
  },
  {
   "cell_type": "code",
   "execution_count": 4,
   "id": "918509d3",
   "metadata": {},
   "outputs": [],
   "source": [
    "# train_test_splitで分割する\n",
    "# 訓練用データ8割, テスト用データ2割とする\n",
    "\n",
    "from sklearn.model_selection import train_test_split\n",
    "\n",
    "x_train, x_test, y_train, y_test = train_test_split(x, y, test_size=0.2, train_size=0.8)"
   ]
  },
  {
   "cell_type": "code",
   "execution_count": 5,
   "id": "0e12a159",
   "metadata": {},
   "outputs": [
    {
     "name": "stdout",
     "output_type": "stream",
     "text": [
      "404 102 404 102\n"
     ]
    }
   ],
   "source": [
    "print(len(x_train),len(x_test),len(y_train),len(y_test))"
   ]
  },
  {
   "cell_type": "markdown",
   "id": "5b27af0e",
   "metadata": {},
   "source": [
    "全データ数506個を訓練用データ402個,　テスト用データ102個に分割。"
   ]
  },
  {
   "cell_type": "markdown",
   "id": "d6621be9",
   "metadata": {},
   "source": [
    "### 住宅価格予想のため回帰分析を行う"
   ]
  },
  {
   "cell_type": "markdown",
   "id": "a058ef1e",
   "metadata": {},
   "source": [
    "x軸パラメータ1つ・y軸パラメータ1つのものを単回帰分析\n",
    "\n",
    "x軸パラメータ複数・y軸パラメータ1つのものを重回帰分析\n",
    "\n",
    "回帰式が直線：線形回帰\n",
    "\n",
    "回帰式が曲線：非線形回帰"
   ]
  },
  {
   "cell_type": "markdown",
   "id": "b45e842b",
   "metadata": {},
   "source": [
    "今回は、犯罪率CRIM,平均部屋数RM,低所得者割合LSTATで重回帰分析の線形回帰。"
   ]
  },
  {
   "cell_type": "code",
   "execution_count": 6,
   "id": "65644d60",
   "metadata": {},
   "outputs": [],
   "source": [
    "# モデルインポート\n",
    "from sklearn.linear_model import LinearRegression"
   ]
  },
  {
   "cell_type": "code",
   "execution_count": 7,
   "id": "2e871f0d",
   "metadata": {},
   "outputs": [
    {
     "data": {
      "text/plain": [
       "LinearRegression()"
      ]
     },
     "execution_count": 7,
     "metadata": {},
     "output_type": "execute_result"
    }
   ],
   "source": [
    "model = LinearRegression()\n",
    "model.fit(x_train, y_train)"
   ]
  },
  {
   "cell_type": "markdown",
   "id": "422d7dd3",
   "metadata": {},
   "source": [
    "これでモデルが決定、機械学習ができる状態に。　状態を確認すると・・・"
   ]
  },
  {
   "cell_type": "code",
   "execution_count": 8,
   "id": "bd115238",
   "metadata": {},
   "outputs": [
    {
     "name": "stdout",
     "output_type": "stream",
     "text": [
      "[17.2162117  25.98642623 28.76361572 36.5503584  19.98641573 31.41112032\n",
      " 20.19751144 30.2384599  33.78232073 23.37360005 36.70159376 19.19788329\n",
      " 25.03075702 38.59324524  6.40118757 21.46442941 19.22243051 35.88659044\n",
      "  9.50335123  9.81976438 20.87287145 31.48939066 17.28905152 26.04799685\n",
      " 21.93773275 23.21174916 20.46883738 35.32621558 18.88011492 21.02174321\n",
      " 27.25598618 27.49010255 23.8856928  12.07241204 20.77636099 21.56662771\n",
      " 28.99722898 22.36085061 30.80358552 26.75133668 28.03335338 21.07127715\n",
      " 19.53885378 25.75968252 23.98362051 30.48253386 26.66937543  4.18410221\n",
      " 32.3507988  37.37303616 16.51408259 26.50469581 22.04242646  9.28655739\n",
      " 22.06602179 23.05289578 27.53901867 22.69937793 19.11569052 26.82567495\n",
      " 21.68568086 24.26476539 31.85070884 37.93284602 22.89184732 25.07925789\n",
      " 12.4795166  26.19619825 26.16972822 23.56355817 32.42748511 24.97347306\n",
      " 15.68738565 18.16347532 30.16269812 20.91844059 28.96469885 15.39174208\n",
      " 19.48212778 27.39045853 29.0306663  25.85367493 32.75419931 20.47174761\n",
      " 31.06505282  7.3685568  18.2029418  22.77156779 24.35269388 17.97612185\n",
      " 22.36940767 25.12123914 18.56092084 19.49311567 27.83205097 25.39990349\n",
      " 30.27535237 31.36836704 17.32891316 28.21327028 19.05735025 12.26878652]\n"
     ]
    }
   ],
   "source": [
    "y_pred = model.predict(x_test)\n",
    "\n",
    "print(y_pred)"
   ]
  },
  {
   "cell_type": "markdown",
   "id": "bd9a3a3a",
   "metadata": {},
   "source": [
    "上記数字が、各データから予想される住宅価格。"
   ]
  },
  {
   "cell_type": "markdown",
   "id": "41006cd1",
   "metadata": {},
   "source": [
    "線形回帰モデル評価指標に、決定係数R^2がある。\n",
    "\n",
    "これは0～1の値を取り、1に近いほど機械学習の予想が的中していることを表す。\n",
    "\n",
    "そして、r2_score（予想）として決定係数を計算する。"
   ]
  },
  {
   "cell_type": "code",
   "execution_count": 9,
   "id": "5c67f1ea",
   "metadata": {},
   "outputs": [],
   "source": [
    "from sklearn.metrics import r2_score"
   ]
  },
  {
   "cell_type": "code",
   "execution_count": 10,
   "id": "812ea0cb",
   "metadata": {},
   "outputs": [
    {
     "data": {
      "text/plain": [
       "0.6160085822150296"
      ]
     },
     "execution_count": 10,
     "metadata": {},
     "output_type": "execute_result"
    }
   ],
   "source": [
    "from sklearn.linear_model import LinearRegression\n",
    "from sklearn.metrics import r2_score\n",
    "\n",
    "model = LinearRegression()\n",
    "model.fit(x_train, y_train)\n",
    "\n",
    "y_pred = model.predict(x_test)\n",
    "r2_score(y_test, y_pred)"
   ]
  },
  {
   "cell_type": "markdown",
   "id": "e5c25e44",
   "metadata": {},
   "source": [
    "これではなんともいえない精度のため、より関連の高そうな特徴量パラメータを用いて行うことにする。"
   ]
  },
  {
   "cell_type": "markdown",
   "id": "b364f346",
   "metadata": {},
   "source": [
    "### 整理\n",
    "\n",
    "犯罪率CRIM,平均部屋数RM,低所得者割合LSTATを変数xに、予想したい住宅価格MEDVを変数yに格納した。\n",
    "\n",
    "更に　訓練用データに8割、テスト用データに2割として分割した。\n",
    "\n",
    "今回は25000平方フィート以上の広い住宅区画割合ZN,小売業以外のビジネスがされている土地割合INDUS,窒素酸化物濃度NOXを変数に追加する。\n",
    "\n",
    "これを訓練用データ,テスト用データに分割した。"
   ]
  },
  {
   "cell_type": "code",
   "execution_count": 14,
   "id": "35d03e73",
   "metadata": {},
   "outputs": [],
   "source": [
    "x1 = df.loc[:, [\"CRIM\", \"RM\", \"LSTAT\"]]\n",
    "x2 = df.loc[:, [\"CRIM\", \"RM\", \"LSTAT\", \"ZN\", \"INDUS\", \"NOX\"]]\n",
    "y = df.loc[:, \"MEDV\"]\n",
    "\n",
    "x1_train, x1_test, y1_train, y1_test= train_test_split(x1, y, test_size=0.2, train_size=0.8)\n",
    "x2_train, x2_test, y2_train, y2_test= train_test_split(x2, y, test_size=0.2, train_size=0.8)"
   ]
  },
  {
   "cell_type": "markdown",
   "id": "3dbd7818",
   "metadata": {},
   "source": [
    "変数x1,x2に機械学習評価を実施する\n",
    "\n",
    "決定係数R^2のため、1に近いほど予想が正しいことを表す。"
   ]
  },
  {
   "cell_type": "code",
   "execution_count": 18,
   "id": "54b68b01",
   "metadata": {},
   "outputs": [
    {
     "name": "stdout",
     "output_type": "stream",
     "text": [
      "0.656352190695449 0.6428198564534187\n"
     ]
    }
   ],
   "source": [
    "from sklearn.linear_model import LinearRegression\n",
    "from sklearn.metrics import r2_score\n",
    "\n",
    "model1 = LinearRegression()\n",
    "model2 = LinearRegression()\n",
    "\n",
    "model1.fit(x1_train, y1_train)\n",
    "model2.fit(x2_train, y2_train)\n",
    "\n",
    "y1_pred = model1.predict(x1_test)\n",
    "y2_pred = model2.predict(x2_test)\n",
    "\n",
    "print(r2_score(y1_test, y1_pred), r2_score(y2_test, y2_pred))"
   ]
  },
  {
   "cell_type": "markdown",
   "id": "244fed14",
   "metadata": {},
   "source": [
    "3種のデータによる決定係数は0.656352190695449,6種のデータによる決定係数は0.6428198564534187である。"
   ]
  },
  {
   "cell_type": "markdown",
   "id": "3f48b660",
   "metadata": {},
   "source": [
    "そこでより正しい判断をしたい。"
   ]
  },
  {
   "cell_type": "markdown",
   "id": "c01faf2c",
   "metadata": {},
   "source": [
    "### for関数による繰り返しデータ分割・モデル作成と機械学習・予想と評価を実施してスコア平均を表示する"
   ]
  },
  {
   "cell_type": "markdown",
   "id": "5930eeeb",
   "metadata": {},
   "source": [
    "1回目"
   ]
  },
  {
   "cell_type": "code",
   "execution_count": 20,
   "id": "4b5c8f1a",
   "metadata": {},
   "outputs": [
    {
     "name": "stdout",
     "output_type": "stream",
     "text": [
      "0.6351872750697238 0.6199228480099284\n"
     ]
    }
   ],
   "source": [
    "from sklearn.model_selection import train_test_split\n",
    "from sklearn.linear_model import LinearRegression\n",
    "from sklearn.metrics import r2_score\n",
    "import numpy as np\n",
    "\n",
    "trial = 100\n",
    "\n",
    "x1 = df.loc[:, [\"CRIM\", \"RM\", \"LSTAT\"]]\n",
    "x2 = df.loc[:, [\"CRIM\", \"RM\", \"LSTAT\", \"ZN\", \"INDUS\", \"NOX\"]]\n",
    "y = df.loc[:, \"MEDV\"]\n",
    "\n",
    "pred1_score=[]; pred2_score=[]\n",
    "\n",
    "for i in range(trial):\n",
    "    x1_train, x1_test, y1_train, y1_test= train_test_split(x1, y, test_size=0.2, train_size=0.8)\n",
    "    x2_train, x2_test, y2_train, y2_test= train_test_split(x2, y, test_size=0.2, train_size=0.8)\n",
    "    \n",
    "    model1 = LinearRegression()\n",
    "    model2 = LinearRegression()\n",
    "    \n",
    "    model1.fit(x1_train, y1_train)\n",
    "    model2.fit(x2_train, y2_train)\n",
    "\n",
    "    y1_pred = model1.predict(x1_test)\n",
    "    y2_pred = model2.predict(x2_test)\n",
    "    \n",
    "    pred1_score.append(r2_score(y1_test, y1_pred))\n",
    "    pred2_score.append(r2_score(y2_test, y2_pred))\n",
    "    \n",
    "pred1_ave = np.average(np.array(pred1_score))\n",
    "pred2_ave = np.average(np.array(pred2_score))\n",
    "\n",
    "print(pred1_ave, pred2_ave)"
   ]
  },
  {
   "cell_type": "markdown",
   "id": "24d26785",
   "metadata": {},
   "source": [
    "2回目"
   ]
  },
  {
   "cell_type": "code",
   "execution_count": 21,
   "id": "c73bf061",
   "metadata": {},
   "outputs": [
    {
     "name": "stdout",
     "output_type": "stream",
     "text": [
      "0.625142483393305 0.631089837543912\n"
     ]
    }
   ],
   "source": [
    "from sklearn.model_selection import train_test_split\n",
    "from sklearn.linear_model import LinearRegression\n",
    "from sklearn.metrics import r2_score\n",
    "import numpy as np\n",
    "\n",
    "trial = 100\n",
    "\n",
    "x1 = df.loc[:, [\"CRIM\", \"RM\", \"LSTAT\"]]\n",
    "x2 = df.loc[:, [\"CRIM\", \"RM\", \"LSTAT\", \"ZN\", \"INDUS\", \"NOX\"]]\n",
    "y = df.loc[:, \"MEDV\"]\n",
    "\n",
    "pred1_score=[]; pred2_score=[]\n",
    "\n",
    "for i in range(trial):\n",
    "    x1_train, x1_test, y1_train, y1_test= train_test_split(x1, y, test_size=0.2, train_size=0.8)\n",
    "    x2_train, x2_test, y2_train, y2_test= train_test_split(x2, y, test_size=0.2, train_size=0.8)\n",
    "    \n",
    "    model1 = LinearRegression()\n",
    "    model2 = LinearRegression()\n",
    "    \n",
    "    model1.fit(x1_train, y1_train)\n",
    "    model2.fit(x2_train, y2_train)\n",
    "\n",
    "    y1_pred = model1.predict(x1_test)\n",
    "    y2_pred = model2.predict(x2_test)\n",
    "    \n",
    "    pred1_score.append(r2_score(y1_test, y1_pred))\n",
    "    pred2_score.append(r2_score(y2_test, y2_pred))\n",
    "    \n",
    "pred1_ave = np.average(np.array(pred1_score))\n",
    "pred2_ave = np.average(np.array(pred2_score))\n",
    "\n",
    "print(pred1_ave, pred2_ave)"
   ]
  },
  {
   "cell_type": "markdown",
   "id": "10a0a7c3",
   "metadata": {},
   "source": [
    "3回目"
   ]
  },
  {
   "cell_type": "code",
   "execution_count": 22,
   "id": "a5e6eb30",
   "metadata": {},
   "outputs": [
    {
     "name": "stdout",
     "output_type": "stream",
     "text": [
      "0.6325696090428147 0.6356923687751794\n"
     ]
    }
   ],
   "source": [
    "from sklearn.model_selection import train_test_split\n",
    "from sklearn.linear_model import LinearRegression\n",
    "from sklearn.metrics import r2_score\n",
    "import numpy as np\n",
    "\n",
    "trial = 100\n",
    "\n",
    "x1 = df.loc[:, [\"CRIM\", \"RM\", \"LSTAT\"]]\n",
    "x2 = df.loc[:, [\"CRIM\", \"RM\", \"LSTAT\", \"ZN\", \"INDUS\", \"NOX\"]]\n",
    "y = df.loc[:, \"MEDV\"]\n",
    "\n",
    "pred1_score=[]; pred2_score=[]\n",
    "\n",
    "for i in range(trial):\n",
    "    x1_train, x1_test, y1_train, y1_test= train_test_split(x1, y, test_size=0.2, train_size=0.8)\n",
    "    x2_train, x2_test, y2_train, y2_test= train_test_split(x2, y, test_size=0.2, train_size=0.8)\n",
    "    \n",
    "    model1 = LinearRegression()\n",
    "    model2 = LinearRegression()\n",
    "    \n",
    "    model1.fit(x1_train, y1_train)\n",
    "    model2.fit(x2_train, y2_train)\n",
    "\n",
    "    y1_pred = model1.predict(x1_test)\n",
    "    y2_pred = model2.predict(x2_test)\n",
    "    \n",
    "    pred1_score.append(r2_score(y1_test, y1_pred))\n",
    "    pred2_score.append(r2_score(y2_test, y2_pred))\n",
    "    \n",
    "pred1_ave = np.average(np.array(pred1_score))\n",
    "pred2_ave = np.average(np.array(pred2_score))\n",
    "\n",
    "print(pred1_ave, pred2_ave)"
   ]
  },
  {
   "cell_type": "markdown",
   "id": "fa31af21",
   "metadata": {},
   "source": [
    "4回目"
   ]
  },
  {
   "cell_type": "code",
   "execution_count": 23,
   "id": "b2771130",
   "metadata": {},
   "outputs": [
    {
     "name": "stdout",
     "output_type": "stream",
     "text": [
      "0.636412642761546 0.6197549895256084\n"
     ]
    }
   ],
   "source": [
    "from sklearn.model_selection import train_test_split\n",
    "from sklearn.linear_model import LinearRegression\n",
    "from sklearn.metrics import r2_score\n",
    "import numpy as np\n",
    "\n",
    "trial = 100\n",
    "\n",
    "x1 = df.loc[:, [\"CRIM\", \"RM\", \"LSTAT\"]]\n",
    "x2 = df.loc[:, [\"CRIM\", \"RM\", \"LSTAT\", \"ZN\", \"INDUS\", \"NOX\"]]\n",
    "y = df.loc[:, \"MEDV\"]\n",
    "\n",
    "pred1_score=[]; pred2_score=[]\n",
    "\n",
    "for i in range(trial):\n",
    "    x1_train, x1_test, y1_train, y1_test= train_test_split(x1, y, test_size=0.2, train_size=0.8)\n",
    "    x2_train, x2_test, y2_train, y2_test= train_test_split(x2, y, test_size=0.2, train_size=0.8)\n",
    "    \n",
    "    model1 = LinearRegression()\n",
    "    model2 = LinearRegression()\n",
    "    \n",
    "    model1.fit(x1_train, y1_train)\n",
    "    model2.fit(x2_train, y2_train)\n",
    "\n",
    "    y1_pred = model1.predict(x1_test)\n",
    "    y2_pred = model2.predict(x2_test)\n",
    "    \n",
    "    pred1_score.append(r2_score(y1_test, y1_pred))\n",
    "    pred2_score.append(r2_score(y2_test, y2_pred))\n",
    "    \n",
    "pred1_ave = np.average(np.array(pred1_score))\n",
    "pred2_ave = np.average(np.array(pred2_score))\n",
    "\n",
    "print(pred1_ave, pred2_ave)"
   ]
  },
  {
   "cell_type": "markdown",
   "id": "d88da60e",
   "metadata": {},
   "source": [
    "5回目"
   ]
  },
  {
   "cell_type": "code",
   "execution_count": 24,
   "id": "5a77bff1",
   "metadata": {},
   "outputs": [
    {
     "name": "stdout",
     "output_type": "stream",
     "text": [
      "0.6260669379656322 0.6209666183244829\n"
     ]
    }
   ],
   "source": [
    "from sklearn.model_selection import train_test_split\n",
    "from sklearn.linear_model import LinearRegression\n",
    "from sklearn.metrics import r2_score\n",
    "import numpy as np\n",
    "\n",
    "trial = 100\n",
    "\n",
    "x1 = df.loc[:, [\"CRIM\", \"RM\", \"LSTAT\"]]\n",
    "x2 = df.loc[:, [\"CRIM\", \"RM\", \"LSTAT\", \"ZN\", \"INDUS\", \"NOX\"]]\n",
    "y = df.loc[:, \"MEDV\"]\n",
    "\n",
    "pred1_score=[]; pred2_score=[]\n",
    "\n",
    "for i in range(trial):\n",
    "    x1_train, x1_test, y1_train, y1_test= train_test_split(x1, y, test_size=0.2, train_size=0.8)\n",
    "    x2_train, x2_test, y2_train, y2_test= train_test_split(x2, y, test_size=0.2, train_size=0.8)\n",
    "    \n",
    "    model1 = LinearRegression()\n",
    "    model2 = LinearRegression()\n",
    "    \n",
    "    model1.fit(x1_train, y1_train)\n",
    "    model2.fit(x2_train, y2_train)\n",
    "\n",
    "    y1_pred = model1.predict(x1_test)\n",
    "    y2_pred = model2.predict(x2_test)\n",
    "    \n",
    "    pred1_score.append(r2_score(y1_test, y1_pred))\n",
    "    pred2_score.append(r2_score(y2_test, y2_pred))\n",
    "    \n",
    "pred1_ave = np.average(np.array(pred1_score))\n",
    "pred2_ave = np.average(np.array(pred2_score))\n",
    "\n",
    "print(pred1_ave, pred2_ave)"
   ]
  },
  {
   "cell_type": "markdown",
   "id": "788f93bc",
   "metadata": {},
   "source": [
    "6回目"
   ]
  },
  {
   "cell_type": "code",
   "execution_count": 25,
   "id": "fd84aa3f",
   "metadata": {},
   "outputs": [
    {
     "name": "stdout",
     "output_type": "stream",
     "text": [
      "0.6339309085996365 0.635757946383764\n"
     ]
    }
   ],
   "source": [
    "from sklearn.model_selection import train_test_split\n",
    "from sklearn.linear_model import LinearRegression\n",
    "from sklearn.metrics import r2_score\n",
    "import numpy as np\n",
    "\n",
    "trial = 100\n",
    "\n",
    "x1 = df.loc[:, [\"CRIM\", \"RM\", \"LSTAT\"]]\n",
    "x2 = df.loc[:, [\"CRIM\", \"RM\", \"LSTAT\", \"ZN\", \"INDUS\", \"NOX\"]]\n",
    "y = df.loc[:, \"MEDV\"]\n",
    "\n",
    "pred1_score=[]; pred2_score=[]\n",
    "\n",
    "for i in range(trial):\n",
    "    x1_train, x1_test, y1_train, y1_test= train_test_split(x1, y, test_size=0.2, train_size=0.8)\n",
    "    x2_train, x2_test, y2_train, y2_test= train_test_split(x2, y, test_size=0.2, train_size=0.8)\n",
    "    \n",
    "    model1 = LinearRegression()\n",
    "    model2 = LinearRegression()\n",
    "    \n",
    "    model1.fit(x1_train, y1_train)\n",
    "    model2.fit(x2_train, y2_train)\n",
    "\n",
    "    y1_pred = model1.predict(x1_test)\n",
    "    y2_pred = model2.predict(x2_test)\n",
    "    \n",
    "    pred1_score.append(r2_score(y1_test, y1_pred))\n",
    "    pred2_score.append(r2_score(y2_test, y2_pred))\n",
    "    \n",
    "pred1_ave = np.average(np.array(pred1_score))\n",
    "pred2_ave = np.average(np.array(pred2_score))\n",
    "\n",
    "print(pred1_ave, pred2_ave)"
   ]
  },
  {
   "cell_type": "markdown",
   "id": "a41488e5",
   "metadata": {},
   "source": [
    "7回目"
   ]
  },
  {
   "cell_type": "code",
   "execution_count": 26,
   "id": "95127300",
   "metadata": {},
   "outputs": [
    {
     "name": "stdout",
     "output_type": "stream",
     "text": [
      "0.6409536162441724 0.6255186668598682\n"
     ]
    }
   ],
   "source": [
    "from sklearn.model_selection import train_test_split\n",
    "from sklearn.linear_model import LinearRegression\n",
    "from sklearn.metrics import r2_score\n",
    "import numpy as np\n",
    "\n",
    "trial = 100\n",
    "\n",
    "x1 = df.loc[:, [\"CRIM\", \"RM\", \"LSTAT\"]]\n",
    "x2 = df.loc[:, [\"CRIM\", \"RM\", \"LSTAT\", \"ZN\", \"INDUS\", \"NOX\"]]\n",
    "y = df.loc[:, \"MEDV\"]\n",
    "\n",
    "pred1_score=[]; pred2_score=[]\n",
    "\n",
    "for i in range(trial):\n",
    "    x1_train, x1_test, y1_train, y1_test= train_test_split(x1, y, test_size=0.2, train_size=0.8)\n",
    "    x2_train, x2_test, y2_train, y2_test= train_test_split(x2, y, test_size=0.2, train_size=0.8)\n",
    "    \n",
    "    model1 = LinearRegression()\n",
    "    model2 = LinearRegression()\n",
    "    \n",
    "    model1.fit(x1_train, y1_train)\n",
    "    model2.fit(x2_train, y2_train)\n",
    "\n",
    "    y1_pred = model1.predict(x1_test)\n",
    "    y2_pred = model2.predict(x2_test)\n",
    "    \n",
    "    pred1_score.append(r2_score(y1_test, y1_pred))\n",
    "    pred2_score.append(r2_score(y2_test, y2_pred))\n",
    "    \n",
    "pred1_ave = np.average(np.array(pred1_score))\n",
    "pred2_ave = np.average(np.array(pred2_score))\n",
    "\n",
    "print(pred1_ave, pred2_ave)"
   ]
  },
  {
   "cell_type": "markdown",
   "id": "773cc358",
   "metadata": {},
   "source": [
    "8回目"
   ]
  },
  {
   "cell_type": "code",
   "execution_count": 27,
   "id": "c9e54891",
   "metadata": {},
   "outputs": [
    {
     "name": "stdout",
     "output_type": "stream",
     "text": [
      "0.6296574241437922 0.6236397529064652\n"
     ]
    }
   ],
   "source": [
    "from sklearn.model_selection import train_test_split\n",
    "from sklearn.linear_model import LinearRegression\n",
    "from sklearn.metrics import r2_score\n",
    "import numpy as np\n",
    "\n",
    "trial = 100\n",
    "\n",
    "x1 = df.loc[:, [\"CRIM\", \"RM\", \"LSTAT\"]]\n",
    "x2 = df.loc[:, [\"CRIM\", \"RM\", \"LSTAT\", \"ZN\", \"INDUS\", \"NOX\"]]\n",
    "y = df.loc[:, \"MEDV\"]\n",
    "\n",
    "pred1_score=[]; pred2_score=[]\n",
    "\n",
    "for i in range(trial):\n",
    "    x1_train, x1_test, y1_train, y1_test= train_test_split(x1, y, test_size=0.2, train_size=0.8)\n",
    "    x2_train, x2_test, y2_train, y2_test= train_test_split(x2, y, test_size=0.2, train_size=0.8)\n",
    "    \n",
    "    model1 = LinearRegression()\n",
    "    model2 = LinearRegression()\n",
    "    \n",
    "    model1.fit(x1_train, y1_train)\n",
    "    model2.fit(x2_train, y2_train)\n",
    "\n",
    "    y1_pred = model1.predict(x1_test)\n",
    "    y2_pred = model2.predict(x2_test)\n",
    "    \n",
    "    pred1_score.append(r2_score(y1_test, y1_pred))\n",
    "    pred2_score.append(r2_score(y2_test, y2_pred))\n",
    "    \n",
    "pred1_ave = np.average(np.array(pred1_score))\n",
    "pred2_ave = np.average(np.array(pred2_score))\n",
    "\n",
    "print(pred1_ave, pred2_ave)"
   ]
  },
  {
   "cell_type": "markdown",
   "id": "e2609b72",
   "metadata": {},
   "source": [
    "9回目"
   ]
  },
  {
   "cell_type": "code",
   "execution_count": 28,
   "id": "4f72b09f",
   "metadata": {},
   "outputs": [
    {
     "name": "stdout",
     "output_type": "stream",
     "text": [
      "0.6346777453533405 0.633305767242345\n"
     ]
    }
   ],
   "source": [
    "from sklearn.model_selection import train_test_split\n",
    "from sklearn.linear_model import LinearRegression\n",
    "from sklearn.metrics import r2_score\n",
    "import numpy as np\n",
    "\n",
    "trial = 100\n",
    "\n",
    "x1 = df.loc[:, [\"CRIM\", \"RM\", \"LSTAT\"]]\n",
    "x2 = df.loc[:, [\"CRIM\", \"RM\", \"LSTAT\", \"ZN\", \"INDUS\", \"NOX\"]]\n",
    "y = df.loc[:, \"MEDV\"]\n",
    "\n",
    "pred1_score=[]; pred2_score=[]\n",
    "\n",
    "for i in range(trial):\n",
    "    x1_train, x1_test, y1_train, y1_test= train_test_split(x1, y, test_size=0.2, train_size=0.8)\n",
    "    x2_train, x2_test, y2_train, y2_test= train_test_split(x2, y, test_size=0.2, train_size=0.8)\n",
    "    \n",
    "    model1 = LinearRegression()\n",
    "    model2 = LinearRegression()\n",
    "    \n",
    "    model1.fit(x1_train, y1_train)\n",
    "    model2.fit(x2_train, y2_train)\n",
    "\n",
    "    y1_pred = model1.predict(x1_test)\n",
    "    y2_pred = model2.predict(x2_test)\n",
    "    \n",
    "    pred1_score.append(r2_score(y1_test, y1_pred))\n",
    "    pred2_score.append(r2_score(y2_test, y2_pred))\n",
    "    \n",
    "pred1_ave = np.average(np.array(pred1_score))\n",
    "pred2_ave = np.average(np.array(pred2_score))\n",
    "\n",
    "print(pred1_ave, pred2_ave)"
   ]
  },
  {
   "cell_type": "markdown",
   "id": "d1221ff9",
   "metadata": {},
   "source": [
    "10回目"
   ]
  },
  {
   "cell_type": "code",
   "execution_count": 29,
   "id": "d9c12270",
   "metadata": {},
   "outputs": [
    {
     "name": "stdout",
     "output_type": "stream",
     "text": [
      "0.6233222293358687 0.6240965801400692\n"
     ]
    }
   ],
   "source": [
    "from sklearn.model_selection import train_test_split\n",
    "from sklearn.linear_model import LinearRegression\n",
    "from sklearn.metrics import r2_score\n",
    "import numpy as np\n",
    "\n",
    "trial = 100\n",
    "\n",
    "x1 = df.loc[:, [\"CRIM\", \"RM\", \"LSTAT\"]]\n",
    "x2 = df.loc[:, [\"CRIM\", \"RM\", \"LSTAT\", \"ZN\", \"INDUS\", \"NOX\"]]\n",
    "y = df.loc[:, \"MEDV\"]\n",
    "\n",
    "pred1_score=[]; pred2_score=[]\n",
    "\n",
    "for i in range(trial):\n",
    "    x1_train, x1_test, y1_train, y1_test= train_test_split(x1, y, test_size=0.2, train_size=0.8)\n",
    "    x2_train, x2_test, y2_train, y2_test= train_test_split(x2, y, test_size=0.2, train_size=0.8)\n",
    "    \n",
    "    model1 = LinearRegression()\n",
    "    model2 = LinearRegression()\n",
    "    \n",
    "    model1.fit(x1_train, y1_train)\n",
    "    model2.fit(x2_train, y2_train)\n",
    "\n",
    "    y1_pred = model1.predict(x1_test)\n",
    "    y2_pred = model2.predict(x2_test)\n",
    "    \n",
    "    pred1_score.append(r2_score(y1_test, y1_pred))\n",
    "    pred2_score.append(r2_score(y2_test, y2_pred))\n",
    "    \n",
    "pred1_ave = np.average(np.array(pred1_score))\n",
    "pred2_ave = np.average(np.array(pred2_score))\n",
    "\n",
    "print(pred1_ave, pred2_ave)"
   ]
  },
  {
   "cell_type": "markdown",
   "id": "bcf83cbe",
   "metadata": {},
   "source": [
    "今回はひとまず100回の試行で平均値を10回求めてみた。"
   ]
  },
  {
   "cell_type": "markdown",
   "id": "409ac59a",
   "metadata": {},
   "source": [
    "データ種類\n",
    "\n",
    "                3種類　　　　　　　　　　　　 6種類\n",
    "\n",
    "                0.6351872750697238            0.6199228480099284\n",
    "                \n",
    "                0.625142483393305             0.631089837543912\n",
    "                \n",
    "                0.6325696090428147            0.6356923687751794\n",
    "                \n",
    "                0.6260669379656322            0.6209666183244829\n",
    "                \n",
    "                0.6260669379656322            0.6209666183244829\n",
    "                \n",
    "                0.6339309085996365            0.635757946383764\n",
    "                \n",
    "                0.6409536162441724            0.6255186668598682\n",
    "                \n",
    "                0.6296574241437922            0.6236397529064652\n",
    "                \n",
    "                0.6346777453533405            0.633305767242345\n",
    "                \n",
    "                0.6233222293358687            0.6240965801400692"
   ]
  },
  {
   "attachments": {},
   "cell_type": "markdown",
   "id": "f5d5b51f",
   "metadata": {},
   "source": [
    "平均値は　　　　3種類：0.630757517　　　　　　6種類：0.6270957"
   ]
  },
  {
   "cell_type": "markdown",
   "id": "601c1c22",
   "metadata": {},
   "source": [
    "検証したデータ要素の多い6要素のほうがスコアが低くなっている。\n",
    "\n",
    "つまり、追加した25000平方フィート以上の広い住宅区画割合ZN,小売業以外のビジネスがされている土地割合INDUS,窒素酸化物濃度NOXは\n",
    "\n",
    "ボストン住宅価格MEDVとは関係が低いことが判明した。"
   ]
  },
  {
   "cell_type": "code",
   "execution_count": null,
   "id": "561781e3",
   "metadata": {},
   "outputs": [],
   "source": []
  }
 ],
 "metadata": {
  "kernelspec": {
   "display_name": "Python 3",
   "language": "python",
   "name": "python3"
  },
  "language_info": {
   "codemirror_mode": {
    "name": "ipython",
    "version": 3
   },
   "file_extension": ".py",
   "mimetype": "text/x-python",
   "name": "python",
   "nbconvert_exporter": "python",
   "pygments_lexer": "ipython3",
   "version": "3.8.11"
  }
 },
 "nbformat": 4,
 "nbformat_minor": 5
}
